{
 "cells": [
  {
   "cell_type": "code",
   "execution_count": null,
   "metadata": {},
   "outputs": [],
   "source": [
    "import pandas as pd\n",
    "import ssl \n",
    "import os\n",
    "import logging\n",
    "from pathlib import Path\n",
    "import time\n",
    "\n",
    "import requests\n",
    "from bs4 import BeautifulSoup\n",
    "\n",
    "import warnings\n",
    "warnings.filterwarnings(\"ignore\")\n",
    "ssl._create_default_https_context = ssl._create_unverified_context\n"
   ]
  },
  {
   "cell_type": "markdown",
   "metadata": {},
   "source": [
    "Table: 'career_avg_batsman'"
   ]
  },
  {
   "cell_type": "code",
   "execution_count": null,
   "metadata": {},
   "outputs": [],
   "source": [
    "def career_avg_batsman(player_ids):\n",
    "\n",
    "    career_avg_batsman_merged = pd.DataFrame()\n",
    "\n",
    "    for p_id in player_ids:\n",
    "        url = \"https://stats.espncricinfo.com/ci/engine/player/\" + p_id + \".html?class=2;template=results;type=batting\"\n",
    "        headers = {\"User-Agent\": \"Mozilla/5.0 (Windows NT 10.0; Win64; x64) AppleWebKit/537.36 (KHTML, like Gecko) Chrome/58.0.3029.110 Safari/537.3\"}\n",
    "        \n",
    "        response = requests.get(url, headers=headers)\n",
    "        if response.status_code == 200:\n",
    "            soup = BeautifulSoup(response.content, 'html.parser')\n",
    "            tables = pd.read_html(str(soup))\n",
    "\n",
    "            if len(tables) > 2:\n",
    "                career_avg_batsman = tables[2]\n",
    "                career_avg_batsman = career_avg_batsman[[\"Span\",\"Inns\",\"Runs\",\"HS\",\"Ave\",\"SR\",\"100\",\"50\",\"0\",\"4s\",\"6s\"]]\n",
    "                career_avg_batsman.insert(0, \"P_id\", p_id, True)\n",
    "                career_avg_batsman_merged = pd.concat([career_avg_batsman_merged, career_avg_batsman], ignore_index=True)\n",
    "                \n",
    "            time.sleep(0.1)\n",
    "\n",
    "        else:\n",
    "            print(f\"Failed to retrieve data for player ID {p_id}, status code: {response.status_code}\")\n",
    "\n",
    "    filepath = Path('Csv/Career_avg_batsman.csv')\n",
    "    career_avg_batsman_merged.to_csv(filepath, index_label=\"row_id\")  \n",
    "    print(career_avg_batsman_merged)\n"
   ]
  },
  {
   "cell_type": "markdown",
   "metadata": {},
   "source": [
    "Table: 'vs_country_batsman'"
   ]
  },
  {
   "cell_type": "code",
   "execution_count": null,
   "metadata": {},
   "outputs": [],
   "source": [
    "def vs_country_batsman(player_ids):\n",
    "\n",
    "    vs_country_batsman_merged = pd.DataFrame()\n",
    "    headers = {\"User-Agent\": \"Mozilla/5.0 (Windows NT 10.0; Win64; x64) AppleWebKit/537.36 (KHTML, like Gecko) Chrome/58.0.3029.110 Safari/537.3\"}\n",
    "\n",
    "    for p_id in player_ids:\n",
    "        url = \"https://stats.espncricinfo.com/ci/engine/player/\" + p_id + \".html?class=2;template=results;type=batting\"\n",
    "        response = requests.get(url, headers=headers)\n",
    "        \n",
    "        if response.status_code == 200:\n",
    "            soup = BeautifulSoup(response.content, 'html.parser')\n",
    "            tables = pd.read_html(str(soup))\n",
    "\n",
    "            if len(tables) > 3:\n",
    "                vs_country_batsman = tables[3]\n",
    "                vs_country_batsman = vs_country_batsman[[\"Grouping\",\"Inns\",\"Runs\",\"HS\",\"Ave\",\"SR\"]]\n",
    "                vs_country_batsman.rename(columns={'Grouping': 'Country'}, inplace=True)\n",
    "                vs_country_batsman.insert(0, \"P_id\", p_id, True)\n",
    "                \n",
    "                countries = ['v Pakistan', 'v Australia', 'v England', 'v New Zealand', 'v West Indies', 'v Sri Lanka', 'v Bangladesh', 'v South Africa']\n",
    "                select_vs_country_batsman = vs_country_batsman.loc[vs_country_batsman['Country'].isin(countries)]\n",
    "                \n",
    "                vs_country_batsman_merged = pd.concat([vs_country_batsman_merged, select_vs_country_batsman], ignore_index=True)\n",
    "                \n",
    "            time.sleep(0.1)\n",
    "        else:\n",
    "            print(f\"Failed to retrieve data for player ID {p_id}, status code: {response.status_code}\")\n",
    "\n",
    "    filepath = Path('Csv/Vs_country_batsman.csv')\n",
    "    vs_country_batsman_merged.to_csv(filepath, index_label=\"row_id\")\n",
    "    print(vs_country_batsman_merged)"
   ]
  },
  {
   "cell_type": "markdown",
   "metadata": {},
   "source": [
    "Table: 'home_vs_away_batsman'"
   ]
  },
  {
   "cell_type": "code",
   "execution_count": null,
   "metadata": {},
   "outputs": [],
   "source": [
    "def home_vs_away_batsman(player_ids):\n",
    "\n",
    "    home_vs_away_batsman_merged = pd.DataFrame()\n",
    "    headers = {\"User-Agent\": \"Mozilla/5.0 (Windows NT 10.0; Win64; x64) AppleWebKit/537.36 (KHTML, like Gecko) Chrome/58.0.3029.110 Safari/537.3\"}\n",
    "\n",
    "    for p_id in player_ids:\n",
    "        url = \"https://stats.espncricinfo.com/ci/engine/player/\" + p_id + \".html?class=2;template=results;type=batting\"\n",
    "        response = requests.get(url, headers=headers)\n",
    "        \n",
    "        if response.status_code == 200:\n",
    "            soup = BeautifulSoup(response.content, 'html.parser')\n",
    "            tables = pd.read_html(str(soup))\n",
    "\n",
    "            if len(tables) > 3:\n",
    "                home_vs_away_batsman = tables[3]\n",
    "                home_vs_away_batsman = home_vs_away_batsman[[\"Grouping\",\"Inns\",\"Runs\",\"HS\",\"Ave\",\"SR\"]]\n",
    "                home_vs_away_batsman.rename(columns={'Grouping': 'Venue'}, inplace=True)\n",
    "                home_vs_away_batsman.insert(0, \"P_id\", p_id, True)\n",
    "                \n",
    "                venues = ['home', 'away', 'neutral']\n",
    "                select_home_vs_away_batsman = home_vs_away_batsman.loc[home_vs_away_batsman['Venue'].isin(venues)]\n",
    "                \n",
    "                home_vs_away_batsman_merged = pd.concat([home_vs_away_batsman_merged, select_home_vs_away_batsman], ignore_index=True)\n",
    "                \n",
    "            time.sleep(0.1)\n",
    "        else:\n",
    "            print(f\"Failed to retrieve data for player ID {p_id}, status code: {response.status_code}\")\n",
    "\n",
    "    filepath = Path('Csv/Home_vs_away_batsman.csv')\n",
    "    home_vs_away_batsman_merged.to_csv(filepath, index_label=\"row_id\")\n",
    "    print(home_vs_away_batsman_merged)"
   ]
  },
  {
   "cell_type": "markdown",
   "metadata": {},
   "source": [
    "Table: 'yearly_stats_batsman'"
   ]
  },
  {
   "cell_type": "code",
   "execution_count": null,
   "metadata": {},
   "outputs": [],
   "source": [
    "def yearly_stats_batsman(player_ids):\n",
    "\n",
    "    yearly_stats_batsman_merged = pd.DataFrame()\n",
    "    headers = {\"User-Agent\": \"Mozilla/5.0 (Windows NT 10.0; Win64; x64) AppleWebKit/537.36 (KHTML, like Gecko) Chrome/58.0.3029.110 Safari/537.3\"}\n",
    "\n",
    "    for p_id in player_ids:\n",
    "        url = \"https://stats.espncricinfo.com/ci/engine/player/\" + p_id + \".html?class=2;template=results;type=batting\"\n",
    "        response = requests.get(url, headers=headers)\n",
    "        \n",
    "        if response.status_code == 200:\n",
    "            soup = BeautifulSoup(response.content, 'html.parser')\n",
    "            tables = pd.read_html(str(soup))\n",
    "\n",
    "            if len(tables) > 3:\n",
    "                yearly_stats_batsman = tables[3]\n",
    "                yearly_stats_batsman = yearly_stats_batsman[[\"Grouping\",\"Inns\",\"Runs\",\"HS\",\"Ave\",\"SR\"]]\n",
    "                yearly_stats_batsman.rename(columns={'Grouping': 'Year'}, inplace=True)\n",
    "                yearly_stats_batsman.insert(0, \"P_id\", p_id, True)\n",
    "                \n",
    "                select_yearly_stats_batsman = yearly_stats_batsman.loc[yearly_stats_batsman['Year'].str.startswith('year ', na=False)]\n",
    "                yearly_stats_batsman_merged = pd.concat([yearly_stats_batsman_merged, select_yearly_stats_batsman], ignore_index=True)\n",
    "                \n",
    "            time.sleep(0.1)\n",
    "        else:\n",
    "            print(f\"Failed to retrieve data for player ID {p_id}, status code: {response.status_code}\")\n",
    "\n",
    "    filepath = Path('Csv/Yearly_stats_batsman.csv')\n",
    "    yearly_stats_batsman_merged.to_csv(filepath, index_label=\"row_id\")\n",
    "    print(yearly_stats_batsman_merged)"
   ]
  },
  {
   "cell_type": "markdown",
   "metadata": {},
   "source": [
    "#Main function below:"
   ]
  },
  {
   "cell_type": "code",
   "execution_count": null,
   "metadata": {},
   "outputs": [],
   "source": [
    "#253802: Virat Kohli (BAT)\n",
    "#34102: Rohit Gurunath Sharma (BAT)\n",
    "#422108: Kannaur Lokesh Rahul (BAT)\n",
    "#28235: Shikhar Dhawan (BAT)\n",
    "#28081 : Mahendra Singh Dhoni (BAT)\n",
    "#234675: Ravindrasinh Anirudhsinh Jadeja (ALL)\n",
    "#625371: Hardik Himanshu Pandya (ALL)\n",
    "#26421: Ravichandran Ashwin (ALL)\n",
    "\n",
    "player_ids=['253802', '34102', '422108', '28235', '28081', '234675', '625371', '26421']\n",
    "\n",
    "#Removes garbage files\n",
    "os.system(\"rm -f Csv/*_batsman.csv\")\n",
    "\n",
    "print(\"\\ncareer_avg_batsman:\")\n",
    "career_avg_batsman(player_ids)\n",
    "\n",
    "print(\"\\nvs_country_batsman:\")\n",
    "vs_country_batsman(player_ids)\n",
    "\n",
    "print(\"\\nhome_vs_away_batsman:\")\n",
    "home_vs_away_batsman(player_ids)\n",
    "\n",
    "print(\"\\nyearly_stats_batsman:\")\n",
    "yearly_stats_batsman(player_ids)\n",
    "\n",
    "\n"
   ]
  }
 ],
 "metadata": {
  "anaconda-cloud": {},
  "kernelspec": {
   "display_name": "Python 3",
   "language": "python",
   "name": "python3"
  },
  "language_info": {
   "codemirror_mode": {
    "name": "ipython",
    "version": 3
   },
   "file_extension": ".py",
   "mimetype": "text/x-python",
   "name": "python",
   "nbconvert_exporter": "python",
   "pygments_lexer": "ipython3",
   "version": "3.11.4"
  }
 },
 "nbformat": 4,
 "nbformat_minor": 1
}

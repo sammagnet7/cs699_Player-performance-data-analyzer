{
 "cells": [
  {
   "cell_type": "code",
   "execution_count": null,
   "metadata": {},
   "outputs": [],
   "source": [
    "import pandas as pd\n",
    "import ssl \n",
    "import os\n",
    "import logging\n",
    "from pathlib import Path\n",
    "import time\n",
    "import requests\n",
    "from bs4 import BeautifulSoup\n",
    "\n",
    "import warnings\n",
    "warnings.filterwarnings(\"ignore\")\n",
    "ssl._create_default_https_context = ssl._create_unverified_context\n",
    "\n",
    "\n",
    "ssl._create_default_https_context = ssl._create_unverified_context"
   ]
  },
  {
   "cell_type": "markdown",
   "metadata": {},
   "source": [
    "Table: 'career_avg_bowler'"
   ]
  },
  {
   "cell_type": "code",
   "execution_count": null,
   "metadata": {},
   "outputs": [],
   "source": [
    "def career_avg_bowler(player_ids):\n",
    "\n",
    "    career_avg_bowler_merged = pd.DataFrame()\n",
    "    headers = {\"User-Agent\": \"Mozilla/5.0 (Windows NT 10.0; Win64; x64) AppleWebKit/537.36 (KHTML, like Gecko) Chrome/58.0.3029.110 Safari/537.3\"}\n",
    "\n",
    "    for p_id in player_ids:\n",
    "        url = \"https://stats.espncricinfo.com/ci/engine/player/\" + p_id + \".html?class=2;template=results;type=bowling\"\n",
    "        response = requests.get(url, headers=headers)\n",
    "\n",
    "        dismissal_url = \"https://stats.espncricinfo.com/ci/engine/player/\" + p_id + \".html?class=2;template=results;type=bowling;view=dismissal_summary\"\n",
    "        dismissal_response = requests.get(dismissal_url, headers=headers)\n",
    "\n",
    "        if response.status_code == 200:\n",
    "            soup = BeautifulSoup(response.content, 'html.parser')\n",
    "            tables = pd.read_html(str(soup))\n",
    "\n",
    "            if len(tables) > 2 and \"Span\" in tables[2].columns:\n",
    "                career_avg_bowler = tables[2]\n",
    "                career_avg_bowler = career_avg_bowler[[\"Span\",\"Inns\",\"Overs\",\"Mdns\",\"Runs\",\"Wkts\",\"Ave\",\"Econ\",\"SR\"]]\n",
    "                career_avg_bowler.insert(0, \"P_id\", [p_id], True)\n",
    "                \n",
    "        if dismissal_response.status_code == 200:\n",
    "            dismissal_soup = BeautifulSoup(dismissal_response.content, 'html.parser')\n",
    "            dismissal_tables = pd.read_html(str(dismissal_soup))\n",
    "                    \n",
    "            if len(dismissal_tables) > 2 and \"Grouping\" in dismissal_tables[3].columns:\n",
    "                dismissal = dismissal_tables[3]\n",
    "                dismissal_types = [\"caught\", \"bowled\", \"leg before wicket\"]\n",
    "                dismissal.set_index(\"Grouping\", inplace=True)\n",
    "                dismissal = dismissal.loc[dismissal_types, [\"Dis\"]]\n",
    "                dismissal_dict = dismissal.to_dict()\n",
    "                dismissal = pd.DataFrame.from_dict(dismissal_dict.values())\n",
    "                        \n",
    "                career_avg_bowler = pd.concat([career_avg_bowler, dismissal], axis=1)\n",
    "                \n",
    "                career_avg_bowler_merged = pd.concat([career_avg_bowler_merged, career_avg_bowler], ignore_index=True)\n",
    "            time.sleep(0.1)\n",
    "        else:\n",
    "            print(f\"Failed to retrieve data for player ID {p_id}, status code: {response.status_code}\")\n",
    "\n",
    "    filepath = Path('Csv/Career_avg_bowler.csv')\n",
    "    career_avg_bowler_merged.to_csv(filepath, index_label=\"row_id\")\n",
    "    print(career_avg_bowler_merged)\n"
   ]
  },
  {
   "cell_type": "markdown",
   "metadata": {},
   "source": [
    "Table: 'vs_country_bowler'"
   ]
  },
  {
   "cell_type": "code",
   "execution_count": null,
   "metadata": {},
   "outputs": [],
   "source": [
    "def vs_country_bowler(player_ids):\n",
    "\n",
    "    vs_country_bowler_merged = pd.DataFrame()\n",
    "    headers = {\"User-Agent\": \"Mozilla/5.0 (Windows NT 10.0; Win64; x64) AppleWebKit/537.36 (KHTML, like Gecko) Chrome/58.0.3029.110 Safari/537.3\"}\n",
    "\n",
    "    for p_id in player_ids:\n",
    "        url = \"https://stats.espncricinfo.com/ci/engine/player/\" + p_id + \".html?class=2;template=results;type=bowling\"\n",
    "        response = requests.get(url, headers=headers)\n",
    "\n",
    "        if response.status_code == 200:\n",
    "            soup = BeautifulSoup(response.content, 'html.parser')\n",
    "            tables = pd.read_html(str(soup))\n",
    "\n",
    "            if len(tables) > 3:\n",
    "                vs_country_bowler = tables[3]\n",
    "                vs_country_bowler = vs_country_bowler[[\"Grouping\",\"Inns\",\"Overs\",\"Mdns\",\"Runs\",\"Wkts\",\"Ave\",\"Econ\",\"SR\"]]\n",
    "                vs_country_bowler.rename(columns={'Grouping': 'Country'}, inplace=True)\n",
    "                vs_country_bowler.insert(0, \"P_id\", p_id, True)\n",
    "\n",
    "                countries = ['v Pakistan', 'v Australia', 'v England', 'v New Zealand', 'v West Indies', 'v Sri Lanka', 'v Bangladesh', 'v South Africa']\n",
    "                select_vs_country_bowler = vs_country_bowler.loc[vs_country_bowler['Country'].isin(countries)]\n",
    "                \n",
    "                vs_country_bowler_merged = pd.concat([vs_country_bowler_merged, select_vs_country_bowler], ignore_index=True)\n",
    "            time.sleep(0.1)\n",
    "        else:\n",
    "            print(f\"Failed to retrieve data for player ID {p_id}, status code: {response.status_code}\")\n",
    "\n",
    "    filepath = Path('Csv/Vs_country_bowler.csv')\n",
    "    vs_country_bowler_merged.to_csv(filepath, index_label=\"row_id\")\n",
    "    print(vs_country_bowler_merged)"
   ]
  },
  {
   "cell_type": "markdown",
   "metadata": {},
   "source": [
    "Table: 'home_vs_away_bowler'"
   ]
  },
  {
   "cell_type": "code",
   "execution_count": null,
   "metadata": {},
   "outputs": [],
   "source": [
    "def home_vs_away_bowler(player_ids):\n",
    "\n",
    "    home_vs_away_bowler_merged = pd.DataFrame()\n",
    "    headers = {\"User-Agent\": \"Mozilla/5.0 (Windows NT 10.0; Win64; x64) AppleWebKit/537.36 (KHTML, like Gecko) Chrome/58.0.3029.110 Safari/537.3\"}\n",
    "\n",
    "    for p_id in player_ids:\n",
    "        url = \"https://stats.espncricinfo.com/ci/engine/player/\" + p_id + \".html?class=2;template=results;type=bowling\"\n",
    "        response = requests.get(url, headers=headers)\n",
    "\n",
    "        if response.status_code == 200:\n",
    "            soup = BeautifulSoup(response.content, 'html.parser')\n",
    "            tables = pd.read_html(str(soup))\n",
    "\n",
    "            if len(tables) > 3:\n",
    "                home_vs_away_bowler = tables[3]\n",
    "                home_vs_away_bowler = home_vs_away_bowler[[\"Grouping\",\"Inns\",\"Overs\",\"Mdns\",\"Runs\",\"Wkts\",\"Ave\",\"Econ\",\"SR\"]]\n",
    "                home_vs_away_bowler.rename(columns={'Grouping': 'Venue'}, inplace=True)\n",
    "                home_vs_away_bowler.insert(0, \"P_id\", p_id, True)\n",
    "\n",
    "                venues = ['home', 'away', 'neutral']\n",
    "                select_home_vs_away_bowler = home_vs_away_bowler.loc[home_vs_away_bowler['Venue'].isin(venues)]\n",
    "                \n",
    "                home_vs_away_bowler_merged = pd.concat([home_vs_away_bowler_merged, select_home_vs_away_bowler], ignore_index=True)\n",
    "            time.sleep(0.1)\n",
    "        else:\n",
    "            print(f\"Failed to retrieve data for player ID {p_id}, status code: {response.status_code}\")\n",
    "\n",
    "    filepath = Path('Csv/Home_vs_away_bowler.csv')\n",
    "    home_vs_away_bowler_merged.to_csv(filepath, index_label=\"row_id\")\n",
    "    print(home_vs_away_bowler_merged)"
   ]
  },
  {
   "cell_type": "markdown",
   "metadata": {},
   "source": [
    "Table: 'yearly_stats_bowler'"
   ]
  },
  {
   "cell_type": "code",
   "execution_count": null,
   "metadata": {},
   "outputs": [],
   "source": [
    "def yearly_stats_bowler(player_ids):\n",
    "\n",
    "    yearly_stats_bowler_merged = pd.DataFrame()\n",
    "    headers = {\"User-Agent\": \"Mozilla/5.0 (Windows NT 10.0; Win64; x64) AppleWebKit/537.36 (KHTML, like Gecko) Chrome/58.0.3029.110 Safari/537.3\"}\n",
    "\n",
    "    for p_id in player_ids:\n",
    "        url = \"https://stats.espncricinfo.com/ci/engine/player/\" + p_id + \".html?class=2;template=results;type=bowling\"\n",
    "        response = requests.get(url, headers=headers)\n",
    "\n",
    "        if response.status_code == 200:\n",
    "            soup = BeautifulSoup(response.content, 'html.parser')\n",
    "            tables = pd.read_html(str(soup))\n",
    "\n",
    "            if len(tables) > 3:\n",
    "                yearly_stats_bowler = tables[3]\n",
    "                yearly_stats_bowler = yearly_stats_bowler[[\"Grouping\",\"Inns\",\"Overs\",\"Mdns\",\"Runs\",\"Wkts\",\"Ave\",\"Econ\",\"SR\"]]\n",
    "                yearly_stats_bowler.rename(columns={'Grouping': 'Year'}, inplace=True)\n",
    "                yearly_stats_bowler.insert(0, \"P_id\", p_id, True)\n",
    "\n",
    "                select_yearly_stats_bowler = yearly_stats_bowler.loc[yearly_stats_bowler['Year'].str.startswith('year ', na=False)]\n",
    "                yearly_stats_bowler_merged = pd.concat([yearly_stats_bowler_merged, select_yearly_stats_bowler], ignore_index=True)\n",
    "            time.sleep(0.1)\n",
    "        else:\n",
    "            print(f\"Failed to retrieve data for player ID {p_id}, status code: {response.status_code}\")\n",
    "\n",
    "    filepath = Path('Csv/Yearly_stats_bowler.csv')\n",
    "    yearly_stats_bowler_merged.to_csv(filepath, index_label=\"row_id\")\n",
    "    print(yearly_stats_bowler_merged)"
   ]
  },
  {
   "cell_type": "markdown",
   "metadata": {},
   "source": [
    "#Main function below:"
   ]
  },
  {
   "cell_type": "code",
   "execution_count": null,
   "metadata": {},
   "outputs": [],
   "source": [
    "#234675: Ravindrasinh Anirudhsinh Jadeja (ALL)\n",
    "#625371: Hardik Himanshu Pandya (ALL)\n",
    "#26421: Ravichandran Ashwin (ALL)\n",
    "#625383: Jasprit Jasbirsingh Bumrah (BOW)\n",
    "#481896: Mohammed Shami Ahmed (BOW)\n",
    "#326016: Bhuvneshwar Kumar Singh (BOW)\n",
    "#376116: Umeshkumar Tilak Yadav (BOW)\n",
    "\n",
    "player_ids=['234675', '625371', '26421', '625383', '481896', '326016', '376116']\n",
    "\n",
    "os.system(\"rm -f Csv/*_bowler.csv\")\n",
    "\n",
    "career_avg_bowler(player_ids)\n",
    "vs_country_bowler(player_ids)\n",
    "home_vs_away_bowler(player_ids)\n",
    "yearly_stats_bowler(player_ids)\n"
   ]
  }
 ],
 "metadata": {
  "anaconda-cloud": {},
  "kernelspec": {
   "display_name": "Python 3",
   "language": "python",
   "name": "python3"
  },
  "language_info": {
   "codemirror_mode": {
    "name": "ipython",
    "version": 3
   },
   "file_extension": ".py",
   "mimetype": "text/x-python",
   "name": "python",
   "nbconvert_exporter": "python",
   "pygments_lexer": "ipython3",
   "version": "3.11.4"
  }
 },
 "nbformat": 4,
 "nbformat_minor": 1
}

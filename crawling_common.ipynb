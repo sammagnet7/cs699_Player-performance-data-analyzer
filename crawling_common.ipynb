{
 "cells": [
  {
   "cell_type": "code",
   "execution_count": null,
   "metadata": {},
   "outputs": [],
   "source": [
    "import pandas as pd\n",
    "import ssl \n",
    "import numpy as np\n",
    "import os\n",
    "import requests\n",
    "import logging\n",
    "from bs4 import BeautifulSoup\n",
    "from pathlib import Path\n",
    "import time\n",
    "\n",
    "import warnings\n",
    "warnings.filterwarnings(\"ignore\")\n",
    "ssl._create_default_https_context = ssl._create_unverified_context\n",
    "\n",
    "ssl._create_default_https_context = ssl._create_unverified_context\n"
   ]
  },
  {
   "cell_type": "markdown",
   "metadata": {},
   "source": [
    "Stores and retreives player photo links"
   ]
  },
  {
   "cell_type": "code",
   "execution_count": null,
   "metadata": {},
   "outputs": [],
   "source": [
    "def player_pic(p_id):\n",
    "     pic_dict={\n",
    "          '253802' : 'https://img1.hscicdn.com/image/upload/f_auto,t_ds_square_w_320,q_50/lsci/db/PICTURES/CMS/316600/316605.png',\n",
    "          '34102' : 'https://img1.hscicdn.com/image/upload/f_auto,t_ds_square_w_320,q_50/lsci/db/PICTURES/CMS/316500/316584.png',\n",
    "          '422108' : 'https://img1.hscicdn.com/image/upload/f_auto,t_ds_square_w_320,q_50/lsci/db/PICTURES/CMS/319900/319942.png',\n",
    "          '28235' : 'https://img1.hscicdn.com/image/upload/f_auto,t_ds_square_w_320,q_50/lsci/db/PICTURES/CMS/316500/316524.png',\n",
    "          '28081' : 'https://img1.hscicdn.com/image/upload/f_auto,t_ds_square_w_640,q_50/lsci/db/PICTURES/CMS/319900/319946.png',\n",
    "          '234675' : 'https://img1.hscicdn.com/image/upload/f_auto,t_ds_square_w_320,q_50/lsci/db/PICTURES/CMS/316600/316600.png',\n",
    "          '625371' : 'https://img1.hscicdn.com/image/upload/f_auto,t_ds_square_w_320,q_50/lsci/db/PICTURES/CMS/319900/319938.png',\n",
    "          '26421' : 'https://img1.hscicdn.com/image/upload/f_auto,t_ds_square_w_320,q_50/lsci/db/PICTURES/CMS/316500/316521.png',          \n",
    "          '625383' : 'https://img1.hscicdn.com/image/upload/f_auto,t_ds_square_w_320,q_50/lsci/db/PICTURES/CMS/319900/319940.png',\n",
    "          '481896' : 'https://img1.hscicdn.com/image/upload/f_auto,t_ds_square_w_320,q_50/lsci/db/PICTURES/CMS/316600/316691.png',\n",
    "          '326016' : 'https://img1.hscicdn.com/image/upload/f_auto,t_ds_square_w_320,q_50/lsci/db/PICTURES/CMS/316600/316658.png',\n",
    "          '376116' : 'https://img1.hscicdn.com/image/upload/f_auto,t_ds_square_w_320,q_50/lsci/db/PICTURES/CMS/316600/316667.png'\n",
    "     }\n",
    "     return pic_dict.get(p_id)"
   ]
  },
  {
   "cell_type": "markdown",
   "metadata": {},
   "source": [
    "Table: 'player_overview'"
   ]
  },
  {
   "cell_type": "code",
   "execution_count": null,
   "metadata": {},
   "outputs": [],
   "source": [
    "def player_overview(player_ids):\n",
    "    \n",
    "    player_overview_merged = pd.DataFrame()\n",
    "\n",
    "    for p_id in player_ids:\n",
    "        \n",
    "        # URL of the website to scrape\n",
    "        url = \"https://www.espncricinfo.com/cricketers/x-\"+p_id\n",
    "\n",
    "        # Send an HTTP GET request to the website\n",
    "        response = requests.get(url)\n",
    "\n",
    "        # Parse the HTML code using BeautifulSoup\n",
    "        soup = BeautifulSoup(response.content, 'html.parser')\n",
    "\n",
    "        # Extract the relevant information from the HTML code\n",
    "        class_grid='ds-grid lg:ds-grid-cols-3 ds-grid-cols-2 ds-gap-4 ds-mb-8'\n",
    "        div_p = soup.find('div', {'class': class_grid})\n",
    "        \n",
    "        my_dict = {}\n",
    "        headers=['Full Name', 'Born', 'Age', 'Batting Style', 'Bowling Style', 'Playing Role']\n",
    "\n",
    "        class_para = 'ds-text-tight-m ds-font-regular ds-uppercase ds-text-typo-mid3'\n",
    "        for div in div_p.find_all('div'):\n",
    "            if ( div.find('p', {'class':class_para}) ) is None:\n",
    "                continue\n",
    "\n",
    "            key = div.find('p', {'class':class_para}).text\n",
    "            value = div.find('span').text\n",
    "            if key in headers:\n",
    "                my_dict[key] = value\n",
    "\n",
    "        #Adds players' roll ids: (ALL for All rounder), (BAT for Batsman), (BOW for Bowler)\n",
    "        if 'All' in my_dict.get('Playing Role'):\n",
    "            my_dict['Roll_id'] = 'ALL'\n",
    "        elif 'Bowl' in my_dict.get('Playing Role'):\n",
    "            my_dict['Roll_id'] = 'BOW'\n",
    "        elif 'Bat' in my_dict.get('Playing Role'):\n",
    "            my_dict['Roll_id'] = 'BAT'\n",
    "        else:\n",
    "            log.error('No matching playing role is found')\n",
    "\n",
    "        #Adds link of the player picture\n",
    "        my_dict['photo_link'] = player_pic(p_id)\n",
    "\n",
    "        player_overview = pd.DataFrame.from_dict([my_dict])\n",
    "        player_overview.insert(0, \"P_id\", p_id, True)\n",
    "\n",
    "        player_overview_merged = pd.concat([player_overview_merged, player_overview], ignore_index=True)\n",
    "        time.sleep(0.1)\n",
    "\n",
    "    filepath = Path('Csv/Player_overview.csv')\n",
    "    player_overview_merged.to_csv(filepath, index_label=\"row_id\")\n",
    "\n",
    "    print(player_overview_merged)"
   ]
  },
  {
   "cell_type": "markdown",
   "metadata": {},
   "source": [
    "#Main function below:"
   ]
  },
  {
   "cell_type": "code",
   "execution_count": null,
   "metadata": {},
   "outputs": [],
   "source": [
    "#253802: Virat Kohli (BAT)\n",
    "#34102: Rohit Gurunath Sharma (BAT)\n",
    "#422108: Kannaur Lokesh Rahul (BAT)\n",
    "#28235: Shikhar Dhawan (BAT)\n",
    "#28081 : Mahendra Singh Dhoni (BAT)\n",
    "#234675: Ravindrasinh Anirudhsinh Jadeja (ALL)\n",
    "#625371: Hardik Himanshu Pandya (ALL)\n",
    "#26421: Ravichandran Ashwin (ALL)\n",
    "#625383: Jasprit Jasbirsingh Bumrah (BOW)\n",
    "#481896: Mohammed Shami Ahmed (BOW)\n",
    "#326016: Bhuvneshwar Kumar Singh (BOW)\n",
    "#376116: Umeshkumar Tilak Yadav (BOW)\n",
    "\n",
    "\n",
    "player_ids=['253802', '34102', '422108', '28235', '28081', '234675', '625371', '26421', '625383', '481896', '326016', '376116']\n",
    "\n",
    "os.system(\"rm -f Csv/player_overview.csv\")\n",
    "\n",
    "player_overview(player_ids)\n",
    "\n"
   ]
  }
 ],
 "metadata": {
  "anaconda-cloud": {},
  "kernelspec": {
   "display_name": "Python 3",
   "language": "python",
   "name": "python3"
  },
  "language_info": {
   "codemirror_mode": {
    "name": "ipython",
    "version": 3
   },
   "file_extension": ".py",
   "mimetype": "text/x-python",
   "name": "python",
   "nbconvert_exporter": "python",
   "pygments_lexer": "ipython3",
   "version": "3.11.4"
  }
 },
 "nbformat": 4,
 "nbformat_minor": 1
}
